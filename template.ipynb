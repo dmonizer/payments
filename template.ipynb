{
  "nbformat": 4,
  "nbformat_minor": 0,
  "metadata": {
    "colab": {
      "provenance": [],
      "toc_visible": true,
      "name": "template.ipynb",
      "authorship_tag": "ABX9TyM20vjBQLb+duprxFOGsdsb",
      "include_colab_link": true
    },
    "kernelspec": {
      "name": "python3",
      "display_name": "Python 3"
    },
    "language_info": {
      "name": "python"
    }
  },
  "cells": [
    {
      "cell_type": "markdown",
      "metadata": {
        "id": "view-in-github",
        "colab_type": "text"
      },
      "source": [
        "<a href=\"https://colab.research.google.com/github/dmonizer/payments/blob/main/template.ipynb\" target=\"_parent\"><img src=\"https://colab.research.google.com/assets/colab-badge.svg\" alt=\"Open In Colab\"/></a>"
      ]
    },
    {
      "cell_type": "markdown",
      "source": [],
      "metadata": {
        "id": "LZa0NpclCKPf"
      }
    },
    {
      "cell_type": "markdown",
      "source": [
        "# 1 Week 1, Exercise 1\n",
        "\n",
        "## 1.1 Exercise overview \n",
        "\n"
      ],
      "metadata": {
        "id": "gxzuOJ4FCMRY"
      }
    },
    {
      "cell_type": "markdown",
      "source": [
        "## 1.2 Solution\n"
      ],
      "metadata": {
        "id": "SIHhqV5FDf1j"
      }
    },
    {
      "cell_type": "markdown",
      "source": [
        "## 1.3 Results interpretation"
      ],
      "metadata": {
        "id": "ku1ZDt_HDhD2"
      }
    }
  ]
}